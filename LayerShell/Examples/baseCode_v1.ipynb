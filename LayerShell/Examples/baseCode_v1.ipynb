{
 "cells": [
  {
   "cell_type": "code",
   "execution_count": 34,
   "metadata": {},
   "outputs": [],
   "source": [
    "# Import Dependencies\n",
    "\n",
    "import numpy as np\n",
    "import matplotlib.pyplot as plt\n",
    "import pandas as pd\n",
    "\n",
    "from baseUnits import N, kN, tf, kgf, mm, cm, m, inches\n",
    "from apeFunctions import rebarArea\n",
    "from plotApeConfig import blueAPE, set_default_plot_params\n",
    "set_default_plot_params()\n"
   ]
  },
  {
   "cell_type": "markdown",
   "metadata": {},
   "source": [
    "# NonLinear Shell Equivalent Thickness Calculator\n",
    "\n",
    "The purpose of this code is to create a calculator to define the nonlinear layer shell for concrete shear walls."
   ]
  },
  {
   "cell_type": "code",
   "execution_count": 35,
   "metadata": {},
   "outputs": [],
   "source": [
    "# Input\n",
    "\n",
    "wall_thickness=400\n",
    "cover=25\n",
    "number_outPlane_int_points=5\n",
    "\n",
    "number_smeared_layers=2\n",
    "consider_bidirectional=True\n",
    "\n",
    "steel_reinforcement=[[5,12,0],[5,16,90],[5,12,0],[5,16,90]]\n",
    "\n",
    "# Material Tags\n",
    "cover_material='UnconfinedConcrete'\n",
    "center_material='ConfinedConcrete'\n",
    "rebar_material='Steel'\n",
    "\n",
    "# Define the width of the layers for plotting\n",
    "layer_width = 1000"
   ]
  },
  {
   "cell_type": "code",
   "execution_count": 36,
   "metadata": {},
   "outputs": [
    {
     "name": "stdout",
     "output_type": "stream",
     "text": [
      "[5, 12, 0]\n",
      "[5, 16, 90]\n",
      "[5, 12, 0]\n",
      "[5, 16, 90]\n"
     ]
    }
   ],
   "source": [
    "for reinforcement in steel_reinforcement:\n",
    "    print(reinforcement)"
   ]
  },
  {
   "cell_type": "code",
   "execution_count": 37,
   "metadata": {},
   "outputs": [
    {
     "name": "stdout",
     "output_type": "stream",
     "text": [
      "The mid layer thickness is: 116.67\n"
     ]
    }
   ],
   "source": [
    "# Calculations\n",
    "\n",
    "first_layer_thickness=cover\n",
    "last_layer_thickness=cover\n",
    "mid_layer_thickness=(wall_thickness-2*cover)/(number_outPlane_int_points-2)\n",
    "\n",
    "print(f'The mid layer thickness is: {round(mid_layer_thickness,2)}')"
   ]
  },
  {
   "cell_type": "code",
   "execution_count": 38,
   "metadata": {},
   "outputs": [
    {
     "name": "stdout",
     "output_type": "stream",
     "text": [
      "Layer 1 thickness: 25 mm\n",
      "Layer 2 thickness: 116.66666666666667 mm\n",
      "Layer 3 thickness: 116.66666666666667 mm\n",
      "Layer 4 thickness: 116.66666666666667 mm\n",
      "Layer 5 thickness: 25 mm\n",
      "[ 25.         141.66666667 258.33333333 375.         400.        ]\n",
      "The smeared_layers coordinates is: [ 25. 375.]\n"
     ]
    }
   ],
   "source": [
    "\n",
    "# List to store thickness of each layer\n",
    "layer_thickness = [first_layer_thickness] + [mid_layer_thickness] * (number_outPlane_int_points-2) + [last_layer_thickness]\n",
    "layer_coord=np.cumsum(layer_thickness)\n",
    "\n",
    "# Display the layer thicknesses\n",
    "for i, thickness in enumerate(layer_thickness, 1):\n",
    "    print(f\"Layer {i} thickness: {thickness} mm\")\n",
    "    \n",
    "print(layer_coord)\n",
    "\n",
    "smeared_coord=np.linspace(cover,(wall_thickness-cover), number_smeared_layers)\n",
    "\n",
    "print(f'The smeared_layers coordinates is: {smeared_coord}')"
   ]
  },
  {
   "cell_type": "code",
   "execution_count": 39,
   "metadata": {},
   "outputs": [
    {
     "name": "stdout",
     "output_type": "stream",
     "text": [
      "The layer shell vector size is: 9\n"
     ]
    }
   ],
   "source": [
    "# Layer Shell Ensamble\n",
    "matTag_vector=[]\n",
    "thickness_vector=[]\n",
    "\n",
    "if consider_bidirectional is True:\n",
    "    number_smeared_layers_perLayer=2\n",
    "else:\n",
    "    number_smeared_layers_perLayer=1\n",
    "    \n",
    "total_numer_layers=number_outPlane_int_points+number_smeared_layers*number_smeared_layers_perLayer\n",
    "\n",
    "print(f'The layer shell vector size is: {total_numer_layers}')\n",
    "\n",
    "# Dataframe creation\n",
    "\n",
    "data_dic={\n",
    "    'Layer Name':[cover_material]+[center_material]*(number_outPlane_int_points-2)+[cover_material],\n",
    "    'Layer Thickness':layer_thickness,\n",
    "    'Begining Coordinate':[0]+list(layer_coord[:-1]),\n",
    "    'End Coordinate':layer_coord\n",
    "}\n",
    "\n",
    "df=pd.DataFrame(data_dic)"
   ]
  },
  {
   "cell_type": "code",
   "execution_count": 40,
   "metadata": {},
   "outputs": [
    {
     "data": {
      "text/html": [
       "<div>\n",
       "<style scoped>\n",
       "    .dataframe tbody tr th:only-of-type {\n",
       "        vertical-align: middle;\n",
       "    }\n",
       "\n",
       "    .dataframe tbody tr th {\n",
       "        vertical-align: top;\n",
       "    }\n",
       "\n",
       "    .dataframe thead th {\n",
       "        text-align: right;\n",
       "    }\n",
       "</style>\n",
       "<table border=\"1\" class=\"dataframe\">\n",
       "  <thead>\n",
       "    <tr style=\"text-align: right;\">\n",
       "      <th></th>\n",
       "      <th>Layer Name</th>\n",
       "      <th>Layer Thickness</th>\n",
       "      <th>Begining Coordinate</th>\n",
       "      <th>End Coordinate</th>\n",
       "    </tr>\n",
       "  </thead>\n",
       "  <tbody>\n",
       "    <tr>\n",
       "      <th>0</th>\n",
       "      <td>UnconfinedConcrete</td>\n",
       "      <td>25.000000</td>\n",
       "      <td>0.000000</td>\n",
       "      <td>25.000000</td>\n",
       "    </tr>\n",
       "    <tr>\n",
       "      <th>1</th>\n",
       "      <td>ConfinedConcrete</td>\n",
       "      <td>116.666667</td>\n",
       "      <td>25.000000</td>\n",
       "      <td>141.666667</td>\n",
       "    </tr>\n",
       "    <tr>\n",
       "      <th>2</th>\n",
       "      <td>ConfinedConcrete</td>\n",
       "      <td>116.666667</td>\n",
       "      <td>141.666667</td>\n",
       "      <td>258.333333</td>\n",
       "    </tr>\n",
       "    <tr>\n",
       "      <th>3</th>\n",
       "      <td>ConfinedConcrete</td>\n",
       "      <td>116.666667</td>\n",
       "      <td>258.333333</td>\n",
       "      <td>375.000000</td>\n",
       "    </tr>\n",
       "    <tr>\n",
       "      <th>4</th>\n",
       "      <td>UnconfinedConcrete</td>\n",
       "      <td>25.000000</td>\n",
       "      <td>375.000000</td>\n",
       "      <td>400.000000</td>\n",
       "    </tr>\n",
       "  </tbody>\n",
       "</table>\n",
       "</div>"
      ],
      "text/plain": [
       "           Layer Name  Layer Thickness  Begining Coordinate  End Coordinate\n",
       "0  UnconfinedConcrete        25.000000             0.000000       25.000000\n",
       "1    ConfinedConcrete       116.666667            25.000000      141.666667\n",
       "2    ConfinedConcrete       116.666667           141.666667      258.333333\n",
       "3    ConfinedConcrete       116.666667           258.333333      375.000000\n",
       "4  UnconfinedConcrete        25.000000           375.000000      400.000000"
      ]
     },
     "execution_count": 40,
     "metadata": {},
     "output_type": "execute_result"
    }
   ],
   "source": [
    "df"
   ]
  },
  {
   "cell_type": "code",
   "execution_count": 41,
   "metadata": {},
   "outputs": [
    {
     "ename": "NameError",
     "evalue": "name 'layer_thicknesses' is not defined",
     "output_type": "error",
     "traceback": [
      "\u001b[1;31m---------------------------------------------------------------------------\u001b[0m",
      "\u001b[1;31mNameError\u001b[0m                                 Traceback (most recent call last)",
      "Cell \u001b[1;32mIn[41], line 8\u001b[0m\n\u001b[0;32m      5\u001b[0m plt\u001b[38;5;241m.\u001b[39mfigure(figsize\u001b[38;5;241m=\u001b[39m(\u001b[38;5;241m8\u001b[39m, \u001b[38;5;241m6\u001b[39m))\n\u001b[0;32m      7\u001b[0m \u001b[38;5;66;03m# Loop through each layer to draw rectangles representing the layers\u001b[39;00m\n\u001b[1;32m----> 8\u001b[0m \u001b[38;5;28;01mfor\u001b[39;00m i \u001b[38;5;129;01min\u001b[39;00m \u001b[38;5;28mrange\u001b[39m(\u001b[38;5;28mlen\u001b[39m(layer_thicknesses)):\n\u001b[0;32m      9\u001b[0m     \u001b[38;5;66;03m# The bottom and top y-coordinates of the layer\u001b[39;00m\n\u001b[0;32m     10\u001b[0m     y_bottom \u001b[38;5;241m=\u001b[39m cumulative_thickness[i]\n\u001b[0;32m     11\u001b[0m     y_top \u001b[38;5;241m=\u001b[39m cumulative_thickness[i\u001b[38;5;241m+\u001b[39m\u001b[38;5;241m1\u001b[39m]\n",
      "\u001b[1;31mNameError\u001b[0m: name 'layer_thicknesses' is not defined"
     ]
    },
    {
     "data": {
      "text/plain": [
       "<Figure size 800x600 with 0 Axes>"
      ]
     },
     "metadata": {},
     "output_type": "display_data"
    }
   ],
   "source": [
    "\n",
    "\n",
    "# Compute the cumulative thickness to get the y-coordinates\n",
    "cumulative_thickness = np.cumsum([0] + layer_thickness)  # Starts from 0 (bottom of the first layer)\n",
    "\n",
    "# Plot the layers\n",
    "plt.figure(figsize=(8, 6))\n",
    "\n",
    "# Loop through each layer to draw rectangles representing the layers\n",
    "for i in range(len(layer_thicknesses)):\n",
    "    # The bottom and top y-coordinates of the layer\n",
    "    y_bottom = cumulative_thickness[i]\n",
    "    y_top = cumulative_thickness[i+1]\n",
    "    \n",
    "    # Draw the rectangle (Layer) as a horizontal bar\n",
    "    plt.fill_between([0, layer_width], y_bottom, y_top, color=blueAPE, edgecolor='k', alpha=0.6)\n",
    "    plt.text(layer_width / 2, (y_bottom + y_top) / 2, f'Layer {i+1}', ha='center', va='center', fontsize=12, color='white')\n",
    "\n",
    "# Set plot limits and labels\n",
    "plt.xlim(0, layer_width)\n",
    "plt.ylim(0, cumulative_thickness[-1])\n",
    "plt.xlabel('Width (mm)')\n",
    "plt.ylabel('Height (mm)')\n",
    "plt.title('Layer Thickness Distribution in Coordinates')\n",
    "plt.grid(True)\n",
    "plt.show()\n"
   ]
  }
 ],
 "metadata": {
  "kernelspec": {
   "display_name": "base",
   "language": "python",
   "name": "python3"
  },
  "language_info": {
   "codemirror_mode": {
    "name": "ipython",
    "version": 3
   },
   "file_extension": ".py",
   "mimetype": "text/x-python",
   "name": "python",
   "nbconvert_exporter": "python",
   "pygments_lexer": "ipython3",
   "version": "3.11.5"
  }
 },
 "nbformat": 4,
 "nbformat_minor": 2
}
