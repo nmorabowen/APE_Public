{
 "cells": [
  {
   "cell_type": "code",
   "execution_count": 4,
   "metadata": {},
   "outputs": [],
   "source": [
    "import sympy as sp"
   ]
  },
  {
   "cell_type": "code",
   "execution_count": 5,
   "metadata": {},
   "outputs": [
    {
     "data": {
      "text/plain": [
       "'N1 = (0.125 - 0.125*zeta)*(1 - eta)*(1 - mu)'"
      ]
     },
     "metadata": {},
     "output_type": "display_data"
    },
    {
     "data": {
      "text/plain": [
       "'N2 = (1 - eta)*(1 - mu)*(0.125*zeta + 0.125)'"
      ]
     },
     "metadata": {},
     "output_type": "display_data"
    },
    {
     "data": {
      "text/plain": [
       "'N3 = (1 - mu)*(eta + 1)*(0.125*zeta + 0.125)'"
      ]
     },
     "metadata": {},
     "output_type": "display_data"
    },
    {
     "data": {
      "text/plain": [
       "'N4 = (0.125 - 0.125*zeta)*(1 - mu)*(eta + 1)'"
      ]
     },
     "metadata": {},
     "output_type": "display_data"
    },
    {
     "data": {
      "text/plain": [
       "'N5 = (0.125 - 0.125*zeta)*(1 - eta)*(mu + 1)'"
      ]
     },
     "metadata": {},
     "output_type": "display_data"
    },
    {
     "data": {
      "text/plain": [
       "'N6 = (1 - eta)*(mu + 1)*(0.125*zeta + 0.125)'"
      ]
     },
     "metadata": {},
     "output_type": "display_data"
    },
    {
     "data": {
      "text/plain": [
       "'N7 = (eta + 1)*(mu + 1)*(0.125*zeta + 0.125)'"
      ]
     },
     "metadata": {},
     "output_type": "display_data"
    },
    {
     "data": {
      "text/plain": [
       "'N8 = (0.125 - 0.125*zeta)*(eta + 1)*(mu + 1)'"
      ]
     },
     "metadata": {},
     "output_type": "display_data"
    },
    {
     "name": "stdout",
     "output_type": "stream",
     "text": [
      "\n",
      "Partial derivatives with respect to zeta:\n"
     ]
    },
    {
     "data": {
      "text/plain": [
       "'dN1/dzeta = -0.125*(1 - eta)*(1 - mu)'"
      ]
     },
     "metadata": {},
     "output_type": "display_data"
    },
    {
     "data": {
      "text/plain": [
       "'dN2/dzeta = 0.125*(1 - eta)*(1 - mu)'"
      ]
     },
     "metadata": {},
     "output_type": "display_data"
    },
    {
     "data": {
      "text/plain": [
       "'dN3/dzeta = 0.125*(1 - mu)*(eta + 1)'"
      ]
     },
     "metadata": {},
     "output_type": "display_data"
    },
    {
     "data": {
      "text/plain": [
       "'dN4/dzeta = -0.125*(1 - mu)*(eta + 1)'"
      ]
     },
     "metadata": {},
     "output_type": "display_data"
    },
    {
     "data": {
      "text/plain": [
       "'dN5/dzeta = -0.125*(1 - eta)*(mu + 1)'"
      ]
     },
     "metadata": {},
     "output_type": "display_data"
    },
    {
     "data": {
      "text/plain": [
       "'dN6/dzeta = 0.125*(1 - eta)*(mu + 1)'"
      ]
     },
     "metadata": {},
     "output_type": "display_data"
    },
    {
     "data": {
      "text/plain": [
       "'dN7/dzeta = 0.125*(eta + 1)*(mu + 1)'"
      ]
     },
     "metadata": {},
     "output_type": "display_data"
    },
    {
     "data": {
      "text/plain": [
       "'dN8/dzeta = -0.125*(eta + 1)*(mu + 1)'"
      ]
     },
     "metadata": {},
     "output_type": "display_data"
    },
    {
     "name": "stdout",
     "output_type": "stream",
     "text": [
      "\n",
      "Partial derivatives with respect to eta:\n"
     ]
    },
    {
     "data": {
      "text/plain": [
       "'dN1/deta = -(0.125 - 0.125*zeta)*(1 - mu)'"
      ]
     },
     "metadata": {},
     "output_type": "display_data"
    },
    {
     "data": {
      "text/plain": [
       "'dN2/deta = -(1 - mu)*(0.125*zeta + 0.125)'"
      ]
     },
     "metadata": {},
     "output_type": "display_data"
    },
    {
     "data": {
      "text/plain": [
       "'dN3/deta = (1 - mu)*(0.125*zeta + 0.125)'"
      ]
     },
     "metadata": {},
     "output_type": "display_data"
    },
    {
     "data": {
      "text/plain": [
       "'dN4/deta = (0.125 - 0.125*zeta)*(1 - mu)'"
      ]
     },
     "metadata": {},
     "output_type": "display_data"
    },
    {
     "data": {
      "text/plain": [
       "'dN5/deta = -(0.125 - 0.125*zeta)*(mu + 1)'"
      ]
     },
     "metadata": {},
     "output_type": "display_data"
    },
    {
     "data": {
      "text/plain": [
       "'dN6/deta = -(mu + 1)*(0.125*zeta + 0.125)'"
      ]
     },
     "metadata": {},
     "output_type": "display_data"
    },
    {
     "data": {
      "text/plain": [
       "'dN7/deta = (mu + 1)*(0.125*zeta + 0.125)'"
      ]
     },
     "metadata": {},
     "output_type": "display_data"
    },
    {
     "data": {
      "text/plain": [
       "'dN8/deta = (0.125 - 0.125*zeta)*(mu + 1)'"
      ]
     },
     "metadata": {},
     "output_type": "display_data"
    },
    {
     "name": "stdout",
     "output_type": "stream",
     "text": [
      "\n",
      "Partial derivatives with respect to mu:\n"
     ]
    },
    {
     "data": {
      "text/plain": [
       "'dN1/dmu = -(0.125 - 0.125*zeta)*(1 - eta)'"
      ]
     },
     "metadata": {},
     "output_type": "display_data"
    },
    {
     "data": {
      "text/plain": [
       "'dN2/dmu = -(1 - eta)*(0.125*zeta + 0.125)'"
      ]
     },
     "metadata": {},
     "output_type": "display_data"
    },
    {
     "data": {
      "text/plain": [
       "'dN3/dmu = -(eta + 1)*(0.125*zeta + 0.125)'"
      ]
     },
     "metadata": {},
     "output_type": "display_data"
    },
    {
     "data": {
      "text/plain": [
       "'dN4/dmu = -(0.125 - 0.125*zeta)*(eta + 1)'"
      ]
     },
     "metadata": {},
     "output_type": "display_data"
    },
    {
     "data": {
      "text/plain": [
       "'dN5/dmu = (0.125 - 0.125*zeta)*(1 - eta)'"
      ]
     },
     "metadata": {},
     "output_type": "display_data"
    },
    {
     "data": {
      "text/plain": [
       "'dN6/dmu = (1 - eta)*(0.125*zeta + 0.125)'"
      ]
     },
     "metadata": {},
     "output_type": "display_data"
    },
    {
     "data": {
      "text/plain": [
       "'dN7/dmu = (eta + 1)*(0.125*zeta + 0.125)'"
      ]
     },
     "metadata": {},
     "output_type": "display_data"
    },
    {
     "data": {
      "text/plain": [
       "'dN8/dmu = (0.125 - 0.125*zeta)*(eta + 1)'"
      ]
     },
     "metadata": {},
     "output_type": "display_data"
    }
   ],
   "source": [
    "\n",
    "# Define the natural coordinates as symbols\n",
    "zeta, eta, mu = sp.symbols('zeta eta mu')\n",
    "\n",
    "# Define the shape functions for an 8-node hexahedral element\n",
    "N1 = (1 / 8) * (1 - zeta) * (1 - eta) * (1 - mu)\n",
    "N2 = (1 / 8) * (1 + zeta) * (1 - eta) * (1 - mu)\n",
    "N3 = (1 / 8) * (1 + zeta) * (1 + eta) * (1 - mu)\n",
    "N4 = (1 / 8) * (1 - zeta) * (1 + eta) * (1 - mu)\n",
    "N5 = (1 / 8) * (1 - zeta) * (1 - eta) * (1 + mu)\n",
    "N6 = (1 / 8) * (1 + zeta) * (1 - eta) * (1 + mu)\n",
    "N7 = (1 / 8) * (1 + zeta) * (1 + eta) * (1 + mu)\n",
    "N8 = (1 / 8) * (1 - zeta) * (1 + eta) * (1 + mu)\n",
    "\n",
    "# Collect the shape functions in a list\n",
    "N = [N1, N2, N3, N4, N5, N6, N7, N8]\n",
    "\n",
    "# Calculate the partial derivatives of the shape functions with respect to zeta, eta, and mu\n",
    "dN_dzeta = [sp.diff(N_i, zeta) for N_i in N]\n",
    "dN_deta = [sp.diff(N_i, eta) for N_i in N]\n",
    "dN_dmu = [sp.diff(N_i, mu) for N_i in N]\n",
    "\n",
    "# Display the shape functions and their partial derivatives\n",
    "for i, N_i in enumerate(N, 1):\n",
    "    display(f\"N{i} = {N_i}\")\n",
    "\n",
    "print(\"\\nPartial derivatives with respect to zeta:\")\n",
    "for i, dN in enumerate(dN_dzeta, 1):\n",
    "    display(f\"dN{i}/dzeta = {dN}\")\n",
    "\n",
    "print(\"\\nPartial derivatives with respect to eta:\")\n",
    "for i, dN in enumerate(dN_deta, 1):\n",
    "    display(f\"dN{i}/deta = {dN}\")\n",
    "\n",
    "print(\"\\nPartial derivatives with respect to mu:\")\n",
    "for i, dN in enumerate(dN_dmu, 1):\n",
    "    display(f\"dN{i}/dmu = {dN}\")\n"
   ]
  }
 ],
 "metadata": {
  "kernelspec": {
   "display_name": "base",
   "language": "python",
   "name": "python3"
  },
  "language_info": {
   "codemirror_mode": {
    "name": "ipython",
    "version": 3
   },
   "file_extension": ".py",
   "mimetype": "text/x-python",
   "name": "python",
   "nbconvert_exporter": "python",
   "pygments_lexer": "ipython3",
   "version": "3.11.5"
  }
 },
 "nbformat": 4,
 "nbformat_minor": 2
}
