{
 "cells": [
  {
   "cell_type": "code",
   "execution_count": 5,
   "metadata": {},
   "outputs": [],
   "source": [
    "import numpy as np\n",
    "import pandas as pd\n",
    "import os"
   ]
  },
  {
   "cell_type": "code",
   "execution_count": 6,
   "metadata": {},
   "outputs": [
    {
     "name": "stdout",
     "output_type": "stream",
     "text": [
      "AISCDatabase.py\n",
      "AISC_Database.pkl\n",
      "AISC_Database.xlsx\n",
      "createSection_db.ipynb\n",
      "sectionProperties.py\n",
      "__init__.py\n",
      "__pycache__\n"
     ]
    }
   ],
   "source": [
    "\n",
    "# Get the current working directory\n",
    "script_directory = os.getcwd()\n",
    "\n",
    "# List all files and directories in the script's directory\n",
    "items = os.listdir(script_directory)\n",
    "\n",
    "# Print each item\n",
    "for item in items:\n",
    "    print(item)"
   ]
  },
  {
   "cell_type": "code",
   "execution_count": 7,
   "metadata": {},
   "outputs": [
    {
     "name": "stdout",
     "output_type": "stream",
     "text": [
      "  Type AISC_Manual_Label      W      A     d  ddet Ht  h OD   bf  ...  rts  \\\n",
      "0    W           W44X408  607.0  77400  1140  1140  –  –  –  409  ...  110   \n",
      "1    W           W44X368  548.0  69700  1130  1130  –  –  –  406  ...  109   \n",
      "2    W           W44X335  499.0  63500  1120  1120  –  –  –  404  ...  108   \n",
      "3    W           W44X290  433.0  55100  1110  1110  –  –  –  401  ...  107   \n",
      "4    W           W44X262  390.0  49800  1100  1100  –  –  –  401  ...  106   \n",
      "\n",
      "     ho    PA PA2    PB    PC    PD    T  WGi   WGo  \n",
      "0  1080  3400   –  3810  2690  3100  965  140  76.2  \n",
      "1  1080  3380   –  3780  2670  3070  965  140  76.2  \n",
      "2  1070  3350   –  3760  2640  3050  965  140  76.2  \n",
      "3  1070  3330   –  3730  2620  3020  965  140  76.2  \n",
      "4  1060  3330   –  3730  2590  3000  965  140  76.2  \n",
      "\n",
      "[5 rows x 82 columns]\n"
     ]
    }
   ],
   "source": [
    "# Specify the file path\n",
    "file_path = \"AISC_Database.xlsx\"\n",
    "\n",
    "# Load the Excel file into a pandas DataFrame, skipping the first row\n",
    "df = pd.read_excel(file_path, header=0)\n",
    "\n",
    "# Display the first few rows of the DataFrame\n",
    "print(df.head())"
   ]
  },
  {
   "cell_type": "code",
   "execution_count": 8,
   "metadata": {},
   "outputs": [
    {
     "name": "stdout",
     "output_type": "stream",
     "text": [
      "DataFrame saved as 'AISC_Database.pkl'\n"
     ]
    }
   ],
   "source": [
    "# Save the DataFrame as a pickle file\n",
    "df.to_pickle(\"AISC_Database.pkl\")\n",
    "print(\"DataFrame saved as 'AISC_Database.pkl'\")\n"
   ]
  }
 ],
 "metadata": {
  "kernelspec": {
   "display_name": "base",
   "language": "python",
   "name": "python3"
  },
  "language_info": {
   "codemirror_mode": {
    "name": "ipython",
    "version": 3
   },
   "file_extension": ".py",
   "mimetype": "text/x-python",
   "name": "python",
   "nbconvert_exporter": "python",
   "pygments_lexer": "ipython3",
   "version": "3.11.10"
  }
 },
 "nbformat": 4,
 "nbformat_minor": 2
}
