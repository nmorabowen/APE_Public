{
 "cells": [
  {
   "cell_type": "code",
   "execution_count": 9,
   "metadata": {},
   "outputs": [],
   "source": [
    "import numpy as np\n",
    "import pandas as pd\n",
    "import os"
   ]
  },
  {
   "cell_type": "code",
   "execution_count": 10,
   "metadata": {},
   "outputs": [
    {
     "name": "stdout",
     "output_type": "stream",
     "text": [
      "AISCDatabase.py\n",
      "AISC_Database.pkl\n",
      "AISC_Database.xlsx\n",
      "createSection_db.ipynb\n",
      "sectionProperties.py\n",
      "__init__.py\n",
      "__pycache__\n"
     ]
    }
   ],
   "source": [
    "\n",
    "# Get the current working directory\n",
    "script_directory = os.getcwd()\n",
    "\n",
    "# List all files and directories in the script's directory\n",
    "items = os.listdir(script_directory)\n",
    "\n",
    "# Print each item\n",
    "for item in items:\n",
    "    print(item)"
   ]
  },
  {
   "cell_type": "code",
   "execution_count": 11,
   "metadata": {},
   "outputs": [
    {
     "name": "stdout",
     "output_type": "stream",
     "text": [
      "  Type AISC_Manual_Label      W      A     d  ddet Ht       h OD   bf  ...  \\\n",
      "0    W           W44X408  607.0  77400  1140  1140  –  1029.8  –  409  ...   \n",
      "1    W           W44X368  548.0  69700  1130  1130  –    1030  –  406  ...   \n",
      "2    W           W44X335  499.0  63500  1120  1120  –    1030  –  404  ...   \n",
      "3    W           W44X290  433.0  55100  1110  1110  –  1029.8  –  401  ...   \n",
      "4    W           W44X262  390.0  49800  1100  1100  –  1027.8  –  401  ...   \n",
      "\n",
      "   rts    ho    PA PA2    PB    PC    PD    T  WGi   WGo  \n",
      "0  110  1080  3400   –  3810  2690  3100  965  140  76.2  \n",
      "1  109  1080  3380   –  3780  2670  3070  965  140  76.2  \n",
      "2  108  1070  3350   –  3760  2640  3050  965  140  76.2  \n",
      "3  107  1070  3330   –  3730  2620  3020  965  140  76.2  \n",
      "4  106  1060  3330   –  3730  2590  3000  965  140  76.2  \n",
      "\n",
      "[5 rows x 82 columns]\n"
     ]
    }
   ],
   "source": [
    "# Specify the file path\n",
    "file_path = \"AISC_Database.xlsx\"\n",
    "\n",
    "# Load the Excel file into a pandas DataFrame, skipping the first row\n",
    "df = pd.read_excel(file_path, header=0)\n",
    "\n",
    "# Display the first few rows of the DataFrame\n",
    "print(df.head())"
   ]
  },
  {
   "cell_type": "code",
   "execution_count": 12,
   "metadata": {},
   "outputs": [
    {
     "name": "stdout",
     "output_type": "stream",
     "text": [
      "DataFrame saved as 'AISC_Database.pkl'\n"
     ]
    }
   ],
   "source": [
    "# Save the DataFrame as a pickle file\n",
    "df.to_pickle(\"AISC_Database.pkl\")\n",
    "print(\"DataFrame saved as 'AISC_Database.pkl'\")\n"
   ]
  }
 ],
 "metadata": {
  "kernelspec": {
   "display_name": "base",
   "language": "python",
   "name": "python3"
  },
  "language_info": {
   "codemirror_mode": {
    "name": "ipython",
    "version": 3
   },
   "file_extension": ".py",
   "mimetype": "text/x-python",
   "name": "python",
   "nbconvert_exporter": "python",
   "pygments_lexer": "ipython3",
   "version": "3.11.10"
  }
 },
 "nbformat": 4,
 "nbformat_minor": 2
}
